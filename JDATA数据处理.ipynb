{
 "cells": [
  {
   "cell_type": "markdown",
   "metadata": {},
   "source": [
    "#### 本脚本目的是获得user、item、user-item三个csv文件\n",
    "#### node_feature:id+feature(feature是user和item的特征concat到一起)\n",
    "#### action:user_id,item_id\n",
    "#### 对数据进行筛选"
   ]
  },
  {
   "cell_type": "code",
   "execution_count": 1,
   "metadata": {},
   "outputs": [],
   "source": [
    "import pandas as pd\n",
    "import numpy as np\n",
    "import matplotlib.pyplot as plt"
   ]
  },
  {
   "cell_type": "code",
   "execution_count": 2,
   "metadata": {},
   "outputs": [],
   "source": [
    "USER = pd.read_csv('../data/JData_User.csv', encoding='gbk')\n",
    "ITEM = pd.read_csv('../data/JData_Product.csv', encoding='gbk')\n",
    "ACTION = pd.read_csv('../data/JData_Action_201602.csv', encoding='gbk')"
   ]
  },
  {
   "cell_type": "markdown",
   "metadata": {},
   "source": [
    "## user的处理"
   ]
  },
  {
   "cell_type": "code",
   "execution_count": 3,
   "metadata": {},
   "outputs": [],
   "source": [
    "user = USER.copy()"
   ]
  },
  {
   "cell_type": "code",
   "execution_count": 4,
   "metadata": {},
   "outputs": [
    {
     "name": "stdout",
     "output_type": "stream",
     "text": [
      "<class 'pandas.core.frame.DataFrame'>\n",
      "RangeIndex: 105321 entries, 0 to 105320\n",
      "Data columns (total 5 columns):\n",
      " #   Column       Non-Null Count   Dtype  \n",
      "---  ------       --------------   -----  \n",
      " 0   user_id      105321 non-null  int64  \n",
      " 1   age          105318 non-null  object \n",
      " 2   sex          105318 non-null  float64\n",
      " 3   user_lv_cd   105321 non-null  int64  \n",
      " 4   user_reg_tm  105318 non-null  object \n",
      "dtypes: float64(1), int64(2), object(2)\n",
      "memory usage: 4.0+ MB\n"
     ]
    }
   ],
   "source": [
    "user.info()"
   ]
  },
  {
   "cell_type": "code",
   "execution_count": 5,
   "metadata": {},
   "outputs": [],
   "source": [
    "def convert_age(age_str):\n",
    "    if age_str == u'-1':\n",
    "        return 0\n",
    "    elif age_str == u'15岁以下':\n",
    "        return 1\n",
    "    elif age_str == u'16-25岁':\n",
    "        return 2\n",
    "    elif age_str == u'26-35岁':\n",
    "        return 3\n",
    "    elif age_str == u'36-45岁':\n",
    "        return 4\n",
    "    elif age_str == u'46-55岁':\n",
    "        return 5\n",
    "    elif age_str == u'56岁以上':\n",
    "        return 6\n",
    "    else:\n",
    "        return -1\n",
    "    \n",
    "def convert_id(id_str):\n",
    "    return 'u_'+str(id_str)"
   ]
  },
  {
   "cell_type": "code",
   "execution_count": 6,
   "metadata": {},
   "outputs": [],
   "source": [
    "user['age'] = user['age'].map(convert_age)\n",
    "user['user_id'] = user['user_id'].map(convert_id)\n",
    "age_df = pd.get_dummies(user[\"age\"], prefix=\"age\")\n",
    "sex_df = pd.get_dummies(user[\"sex\"], prefix=\"sex\")\n",
    "user_lv_df = pd.get_dummies(user[\"user_lv_cd\"], prefix=\"user_lv_cd\")\n",
    "data_user = pd.concat([user['user_id'], age_df, sex_df, user_lv_df], axis=1)"
   ]
  },
  {
   "cell_type": "markdown",
   "metadata": {},
   "source": [
    "## item处理"
   ]
  },
  {
   "cell_type": "code",
   "execution_count": 7,
   "metadata": {},
   "outputs": [],
   "source": [
    "item = ITEM.copy()"
   ]
  },
  {
   "cell_type": "code",
   "execution_count": 8,
   "metadata": {},
   "outputs": [
    {
     "name": "stdout",
     "output_type": "stream",
     "text": [
      "<class 'pandas.core.frame.DataFrame'>\n",
      "RangeIndex: 24187 entries, 0 to 24186\n",
      "Data columns (total 6 columns):\n",
      " #   Column  Non-Null Count  Dtype\n",
      "---  ------  --------------  -----\n",
      " 0   sku_id  24187 non-null  int64\n",
      " 1   a1      24187 non-null  int64\n",
      " 2   a2      24187 non-null  int64\n",
      " 3   a3      24187 non-null  int64\n",
      " 4   cate    24187 non-null  int64\n",
      " 5   brand   24187 non-null  int64\n",
      "dtypes: int64(6)\n",
      "memory usage: 1.1 MB\n"
     ]
    }
   ],
   "source": [
    "item.info()"
   ]
  },
  {
   "cell_type": "code",
   "execution_count": 9,
   "metadata": {},
   "outputs": [],
   "source": [
    "def convert_sku_id(idstr):\n",
    "    return 'i_'+str(idstr)"
   ]
  },
  {
   "cell_type": "code",
   "execution_count": 10,
   "metadata": {},
   "outputs": [],
   "source": [
    "item['sku_id'] = item['sku_id'].map(convert_sku_id)\n",
    "a1_df = pd.get_dummies(item[\"a1\"], prefix=\"a1\")\n",
    "a2_df = pd.get_dummies(item[\"a2\"], prefix=\"a2\")\n",
    "a3_df = pd.get_dummies(item[\"a3\"], prefix=\"a3\")\n",
    "cate_df = pd.get_dummies(item['cate'], prefix='cate')\n",
    "brand_df = pd.get_dummies(item['brand'], prefix='brand')\n",
    "data_item = pd.concat([item['sku_id'], a1_df, a2_df, a3_df, cate_df, brand_df], axis=1)"
   ]
  },
  {
   "cell_type": "markdown",
   "metadata": {},
   "source": [
    "## action处理"
   ]
  },
  {
   "cell_type": "code",
   "execution_count": 11,
   "metadata": {},
   "outputs": [],
   "source": [
    "action = ACTION.copy()"
   ]
  },
  {
   "cell_type": "code",
   "execution_count": 12,
   "metadata": {},
   "outputs": [
    {
     "name": "stdout",
     "output_type": "stream",
     "text": [
      "<class 'pandas.core.frame.DataFrame'>\n",
      "RangeIndex: 11485424 entries, 0 to 11485423\n",
      "Data columns (total 7 columns):\n",
      " #   Column    Dtype  \n",
      "---  ------    -----  \n",
      " 0   user_id   float64\n",
      " 1   sku_id    int64  \n",
      " 2   time      object \n",
      " 3   model_id  float64\n",
      " 4   type      int64  \n",
      " 5   cate      int64  \n",
      " 6   brand     int64  \n",
      "dtypes: float64(2), int64(4), object(1)\n",
      "memory usage: 613.4+ MB\n"
     ]
    }
   ],
   "source": [
    "action.info()"
   ]
  },
  {
   "cell_type": "code",
   "execution_count": 13,
   "metadata": {},
   "outputs": [],
   "source": [
    "action = action[action['type']==6]\n",
    "action.drop(['time','model_id','type','cate','brand'], axis=1, inplace=True)\n",
    "#筛选用户,去掉点击数比较多的爬虫用户,去掉点击数比较少的冷启用户\n",
    "#x=action.groupby('user_id').count()['sku_id']\n",
    "#users=list(x[(x.values>150)&(x.values<200)].index)\n",
    "action.reset_index()\n",
    "action = action.drop_duplicates()"
   ]
  },
  {
   "cell_type": "code",
   "execution_count": 14,
   "metadata": {},
   "outputs": [],
   "source": [
    "def convert_action_user(idstr):\n",
    "    idstr = int(idstr)\n",
    "    return 'u_'+ str(idstr)\n",
    "def convert_action_item(idstr):\n",
    "    return 'i_'+ str(idstr)"
   ]
  },
  {
   "cell_type": "code",
   "execution_count": 15,
   "metadata": {},
   "outputs": [],
   "source": [
    "action['user_id'] = action['user_id'].map(convert_action_user)\n",
    "action['sku_id'] = action['sku_id'].map(convert_action_item)"
   ]
  },
  {
   "cell_type": "markdown",
   "metadata": {},
   "source": [
    "## 输出文件\n",
    "将user和item的属性concat到一起，没有的用nan代替"
   ]
  },
  {
   "cell_type": "code",
   "execution_count": 16,
   "metadata": {},
   "outputs": [
    {
     "name": "stderr",
     "output_type": "stream",
     "text": [
      "/home/linbang/anaconda3/envs/DGL/lib/python3.6/site-packages/pandas/core/frame.py:4133: SettingWithCopyWarning: \n",
      "A value is trying to be set on a copy of a slice from a DataFrame\n",
      "\n",
      "See the caveats in the documentation: https://pandas.pydata.org/pandas-docs/stable/user_guide/indexing.html#returning-a-view-versus-a-copy\n",
      "  errors=errors,\n"
     ]
    }
   ],
   "source": [
    "data_user_t = data_user[data_user['user_id'].isin(list(action['user_id']))]\n",
    "data_user_t.rename(columns={'user_id':'node_id'}, inplace=True)\n",
    "data_user_t.to_csv('../data/user_features.csv', index=False)"
   ]
  },
  {
   "cell_type": "code",
   "execution_count": 17,
   "metadata": {},
   "outputs": [],
   "source": [
    "data_item_t = data_item[data_item['sku_id'].isin(list(action['sku_id']))]\n",
    "data_item_t.rename(columns={'sku_id':'node_id'},inplace=True)\n",
    "data_item_t.to_csv('../data/item_features.csv', index=False)"
   ]
  },
  {
   "cell_type": "code",
   "execution_count": 18,
   "metadata": {},
   "outputs": [],
   "source": [
    "node_features = pd.concat([data_user_t, data_item_t], keys='node_id', ignore_index=True)\n",
    "node_features.fillna(0, inplace=True)"
   ]
  },
  {
   "cell_type": "code",
   "execution_count": 19,
   "metadata": {},
   "outputs": [
    {
     "data": {
      "text/html": [
       "<div>\n",
       "<style scoped>\n",
       "    .dataframe tbody tr th:only-of-type {\n",
       "        vertical-align: middle;\n",
       "    }\n",
       "\n",
       "    .dataframe tbody tr th {\n",
       "        vertical-align: top;\n",
       "    }\n",
       "\n",
       "    .dataframe thead th {\n",
       "        text-align: right;\n",
       "    }\n",
       "</style>\n",
       "<table border=\"1\" class=\"dataframe\">\n",
       "  <thead>\n",
       "    <tr style=\"text-align: right;\">\n",
       "      <th></th>\n",
       "      <th>node_id</th>\n",
       "      <th>age_-1</th>\n",
       "      <th>age_0</th>\n",
       "      <th>age_1</th>\n",
       "      <th>age_2</th>\n",
       "      <th>age_3</th>\n",
       "      <th>age_4</th>\n",
       "      <th>age_5</th>\n",
       "      <th>age_6</th>\n",
       "      <th>sex_0.0</th>\n",
       "      <th>...</th>\n",
       "      <th>brand_855</th>\n",
       "      <th>brand_857</th>\n",
       "      <th>brand_871</th>\n",
       "      <th>brand_875</th>\n",
       "      <th>brand_885</th>\n",
       "      <th>brand_900</th>\n",
       "      <th>brand_905</th>\n",
       "      <th>brand_907</th>\n",
       "      <th>brand_916</th>\n",
       "      <th>brand_922</th>\n",
       "    </tr>\n",
       "  </thead>\n",
       "  <tbody>\n",
       "    <tr>\n",
       "      <th>0</th>\n",
       "      <td>u_200002</td>\n",
       "      <td>0.0</td>\n",
       "      <td>1.0</td>\n",
       "      <td>0.0</td>\n",
       "      <td>0.0</td>\n",
       "      <td>0.0</td>\n",
       "      <td>0.0</td>\n",
       "      <td>0.0</td>\n",
       "      <td>0.0</td>\n",
       "      <td>1.0</td>\n",
       "      <td>...</td>\n",
       "      <td>0.0</td>\n",
       "      <td>0.0</td>\n",
       "      <td>0.0</td>\n",
       "      <td>0.0</td>\n",
       "      <td>0.0</td>\n",
       "      <td>0.0</td>\n",
       "      <td>0.0</td>\n",
       "      <td>0.0</td>\n",
       "      <td>0.0</td>\n",
       "      <td>0.0</td>\n",
       "    </tr>\n",
       "    <tr>\n",
       "      <th>1</th>\n",
       "      <td>u_200003</td>\n",
       "      <td>0.0</td>\n",
       "      <td>0.0</td>\n",
       "      <td>0.0</td>\n",
       "      <td>0.0</td>\n",
       "      <td>0.0</td>\n",
       "      <td>1.0</td>\n",
       "      <td>0.0</td>\n",
       "      <td>0.0</td>\n",
       "      <td>0.0</td>\n",
       "      <td>...</td>\n",
       "      <td>0.0</td>\n",
       "      <td>0.0</td>\n",
       "      <td>0.0</td>\n",
       "      <td>0.0</td>\n",
       "      <td>0.0</td>\n",
       "      <td>0.0</td>\n",
       "      <td>0.0</td>\n",
       "      <td>0.0</td>\n",
       "      <td>0.0</td>\n",
       "      <td>0.0</td>\n",
       "    </tr>\n",
       "    <tr>\n",
       "      <th>2</th>\n",
       "      <td>u_200005</td>\n",
       "      <td>0.0</td>\n",
       "      <td>0.0</td>\n",
       "      <td>0.0</td>\n",
       "      <td>1.0</td>\n",
       "      <td>0.0</td>\n",
       "      <td>0.0</td>\n",
       "      <td>0.0</td>\n",
       "      <td>0.0</td>\n",
       "      <td>1.0</td>\n",
       "      <td>...</td>\n",
       "      <td>0.0</td>\n",
       "      <td>0.0</td>\n",
       "      <td>0.0</td>\n",
       "      <td>0.0</td>\n",
       "      <td>0.0</td>\n",
       "      <td>0.0</td>\n",
       "      <td>0.0</td>\n",
       "      <td>0.0</td>\n",
       "      <td>0.0</td>\n",
       "      <td>0.0</td>\n",
       "    </tr>\n",
       "    <tr>\n",
       "      <th>3</th>\n",
       "      <td>u_200007</td>\n",
       "      <td>0.0</td>\n",
       "      <td>0.0</td>\n",
       "      <td>0.0</td>\n",
       "      <td>0.0</td>\n",
       "      <td>0.0</td>\n",
       "      <td>1.0</td>\n",
       "      <td>0.0</td>\n",
       "      <td>0.0</td>\n",
       "      <td>0.0</td>\n",
       "      <td>...</td>\n",
       "      <td>0.0</td>\n",
       "      <td>0.0</td>\n",
       "      <td>0.0</td>\n",
       "      <td>0.0</td>\n",
       "      <td>0.0</td>\n",
       "      <td>0.0</td>\n",
       "      <td>0.0</td>\n",
       "      <td>0.0</td>\n",
       "      <td>0.0</td>\n",
       "      <td>0.0</td>\n",
       "    </tr>\n",
       "    <tr>\n",
       "      <th>4</th>\n",
       "      <td>u_200008</td>\n",
       "      <td>0.0</td>\n",
       "      <td>1.0</td>\n",
       "      <td>0.0</td>\n",
       "      <td>0.0</td>\n",
       "      <td>0.0</td>\n",
       "      <td>0.0</td>\n",
       "      <td>0.0</td>\n",
       "      <td>0.0</td>\n",
       "      <td>0.0</td>\n",
       "      <td>...</td>\n",
       "      <td>0.0</td>\n",
       "      <td>0.0</td>\n",
       "      <td>0.0</td>\n",
       "      <td>0.0</td>\n",
       "      <td>0.0</td>\n",
       "      <td>0.0</td>\n",
       "      <td>0.0</td>\n",
       "      <td>0.0</td>\n",
       "      <td>0.0</td>\n",
       "      <td>0.0</td>\n",
       "    </tr>\n",
       "    <tr>\n",
       "      <th>...</th>\n",
       "      <td>...</td>\n",
       "      <td>...</td>\n",
       "      <td>...</td>\n",
       "      <td>...</td>\n",
       "      <td>...</td>\n",
       "      <td>...</td>\n",
       "      <td>...</td>\n",
       "      <td>...</td>\n",
       "      <td>...</td>\n",
       "      <td>...</td>\n",
       "      <td>...</td>\n",
       "      <td>...</td>\n",
       "      <td>...</td>\n",
       "      <td>...</td>\n",
       "      <td>...</td>\n",
       "      <td>...</td>\n",
       "      <td>...</td>\n",
       "      <td>...</td>\n",
       "      <td>...</td>\n",
       "      <td>...</td>\n",
       "      <td>...</td>\n",
       "    </tr>\n",
       "    <tr>\n",
       "      <th>72699</th>\n",
       "      <td>i_99890</td>\n",
       "      <td>0.0</td>\n",
       "      <td>0.0</td>\n",
       "      <td>0.0</td>\n",
       "      <td>0.0</td>\n",
       "      <td>0.0</td>\n",
       "      <td>0.0</td>\n",
       "      <td>0.0</td>\n",
       "      <td>0.0</td>\n",
       "      <td>0.0</td>\n",
       "      <td>...</td>\n",
       "      <td>0.0</td>\n",
       "      <td>0.0</td>\n",
       "      <td>0.0</td>\n",
       "      <td>0.0</td>\n",
       "      <td>0.0</td>\n",
       "      <td>0.0</td>\n",
       "      <td>0.0</td>\n",
       "      <td>0.0</td>\n",
       "      <td>0.0</td>\n",
       "      <td>0.0</td>\n",
       "    </tr>\n",
       "    <tr>\n",
       "      <th>72700</th>\n",
       "      <td>i_99909</td>\n",
       "      <td>0.0</td>\n",
       "      <td>0.0</td>\n",
       "      <td>0.0</td>\n",
       "      <td>0.0</td>\n",
       "      <td>0.0</td>\n",
       "      <td>0.0</td>\n",
       "      <td>0.0</td>\n",
       "      <td>0.0</td>\n",
       "      <td>0.0</td>\n",
       "      <td>...</td>\n",
       "      <td>0.0</td>\n",
       "      <td>0.0</td>\n",
       "      <td>0.0</td>\n",
       "      <td>0.0</td>\n",
       "      <td>0.0</td>\n",
       "      <td>0.0</td>\n",
       "      <td>0.0</td>\n",
       "      <td>0.0</td>\n",
       "      <td>0.0</td>\n",
       "      <td>0.0</td>\n",
       "    </tr>\n",
       "    <tr>\n",
       "      <th>72701</th>\n",
       "      <td>i_99926</td>\n",
       "      <td>0.0</td>\n",
       "      <td>0.0</td>\n",
       "      <td>0.0</td>\n",
       "      <td>0.0</td>\n",
       "      <td>0.0</td>\n",
       "      <td>0.0</td>\n",
       "      <td>0.0</td>\n",
       "      <td>0.0</td>\n",
       "      <td>0.0</td>\n",
       "      <td>...</td>\n",
       "      <td>0.0</td>\n",
       "      <td>0.0</td>\n",
       "      <td>0.0</td>\n",
       "      <td>0.0</td>\n",
       "      <td>0.0</td>\n",
       "      <td>0.0</td>\n",
       "      <td>0.0</td>\n",
       "      <td>0.0</td>\n",
       "      <td>0.0</td>\n",
       "      <td>0.0</td>\n",
       "    </tr>\n",
       "    <tr>\n",
       "      <th>72702</th>\n",
       "      <td>i_99955</td>\n",
       "      <td>0.0</td>\n",
       "      <td>0.0</td>\n",
       "      <td>0.0</td>\n",
       "      <td>0.0</td>\n",
       "      <td>0.0</td>\n",
       "      <td>0.0</td>\n",
       "      <td>0.0</td>\n",
       "      <td>0.0</td>\n",
       "      <td>0.0</td>\n",
       "      <td>...</td>\n",
       "      <td>0.0</td>\n",
       "      <td>0.0</td>\n",
       "      <td>0.0</td>\n",
       "      <td>0.0</td>\n",
       "      <td>0.0</td>\n",
       "      <td>0.0</td>\n",
       "      <td>0.0</td>\n",
       "      <td>0.0</td>\n",
       "      <td>0.0</td>\n",
       "      <td>0.0</td>\n",
       "    </tr>\n",
       "    <tr>\n",
       "      <th>72703</th>\n",
       "      <td>i_99979</td>\n",
       "      <td>0.0</td>\n",
       "      <td>0.0</td>\n",
       "      <td>0.0</td>\n",
       "      <td>0.0</td>\n",
       "      <td>0.0</td>\n",
       "      <td>0.0</td>\n",
       "      <td>0.0</td>\n",
       "      <td>0.0</td>\n",
       "      <td>0.0</td>\n",
       "      <td>...</td>\n",
       "      <td>0.0</td>\n",
       "      <td>0.0</td>\n",
       "      <td>0.0</td>\n",
       "      <td>0.0</td>\n",
       "      <td>0.0</td>\n",
       "      <td>0.0</td>\n",
       "      <td>0.0</td>\n",
       "      <td>0.0</td>\n",
       "      <td>0.0</td>\n",
       "      <td>0.0</td>\n",
       "    </tr>\n",
       "  </tbody>\n",
       "</table>\n",
       "<p>72704 rows × 130 columns</p>\n",
       "</div>"
      ],
      "text/plain": [
       "        node_id  age_-1  age_0  age_1  age_2  age_3  age_4  age_5  age_6  \\\n",
       "0      u_200002     0.0    1.0    0.0    0.0    0.0    0.0    0.0    0.0   \n",
       "1      u_200003     0.0    0.0    0.0    0.0    0.0    1.0    0.0    0.0   \n",
       "2      u_200005     0.0    0.0    0.0    1.0    0.0    0.0    0.0    0.0   \n",
       "3      u_200007     0.0    0.0    0.0    0.0    0.0    1.0    0.0    0.0   \n",
       "4      u_200008     0.0    1.0    0.0    0.0    0.0    0.0    0.0    0.0   \n",
       "...         ...     ...    ...    ...    ...    ...    ...    ...    ...   \n",
       "72699   i_99890     0.0    0.0    0.0    0.0    0.0    0.0    0.0    0.0   \n",
       "72700   i_99909     0.0    0.0    0.0    0.0    0.0    0.0    0.0    0.0   \n",
       "72701   i_99926     0.0    0.0    0.0    0.0    0.0    0.0    0.0    0.0   \n",
       "72702   i_99955     0.0    0.0    0.0    0.0    0.0    0.0    0.0    0.0   \n",
       "72703   i_99979     0.0    0.0    0.0    0.0    0.0    0.0    0.0    0.0   \n",
       "\n",
       "       sex_0.0  ...  brand_855  brand_857  brand_871  brand_875  brand_885  \\\n",
       "0          1.0  ...        0.0        0.0        0.0        0.0        0.0   \n",
       "1          0.0  ...        0.0        0.0        0.0        0.0        0.0   \n",
       "2          1.0  ...        0.0        0.0        0.0        0.0        0.0   \n",
       "3          0.0  ...        0.0        0.0        0.0        0.0        0.0   \n",
       "4          0.0  ...        0.0        0.0        0.0        0.0        0.0   \n",
       "...        ...  ...        ...        ...        ...        ...        ...   \n",
       "72699      0.0  ...        0.0        0.0        0.0        0.0        0.0   \n",
       "72700      0.0  ...        0.0        0.0        0.0        0.0        0.0   \n",
       "72701      0.0  ...        0.0        0.0        0.0        0.0        0.0   \n",
       "72702      0.0  ...        0.0        0.0        0.0        0.0        0.0   \n",
       "72703      0.0  ...        0.0        0.0        0.0        0.0        0.0   \n",
       "\n",
       "       brand_900  brand_905  brand_907  brand_916  brand_922  \n",
       "0            0.0        0.0        0.0        0.0        0.0  \n",
       "1            0.0        0.0        0.0        0.0        0.0  \n",
       "2            0.0        0.0        0.0        0.0        0.0  \n",
       "3            0.0        0.0        0.0        0.0        0.0  \n",
       "4            0.0        0.0        0.0        0.0        0.0  \n",
       "...          ...        ...        ...        ...        ...  \n",
       "72699        0.0        0.0        0.0        0.0        0.0  \n",
       "72700        0.0        0.0        0.0        0.0        0.0  \n",
       "72701        0.0        0.0        0.0        0.0        0.0  \n",
       "72702        0.0        0.0        0.0        0.0        0.0  \n",
       "72703        0.0        0.0        0.0        0.0        0.0  \n",
       "\n",
       "[72704 rows x 130 columns]"
      ]
     },
     "execution_count": 19,
     "metadata": {},
     "output_type": "execute_result"
    }
   ],
   "source": [
    "node_features"
   ]
  },
  {
   "cell_type": "code",
   "execution_count": 20,
   "metadata": {},
   "outputs": [],
   "source": [
    "node_features.to_csv('../data/node_features.csv', index=False)"
   ]
  },
  {
   "cell_type": "code",
   "execution_count": 21,
   "metadata": {},
   "outputs": [],
   "source": [
    "action.to_csv('../data/data_action.csv', index=False)"
   ]
  },
  {
   "cell_type": "code",
   "execution_count": null,
   "metadata": {},
   "outputs": [],
   "source": []
  },
  {
   "cell_type": "code",
   "execution_count": null,
   "metadata": {},
   "outputs": [],
   "source": []
  },
  {
   "cell_type": "code",
   "execution_count": null,
   "metadata": {},
   "outputs": [],
   "source": []
  }
 ],
 "metadata": {
  "kernelspec": {
   "display_name": "Python(DGL)",
   "language": "python",
   "name": "dgl"
  },
  "language_info": {
   "codemirror_mode": {
    "name": "ipython",
    "version": 3
   },
   "file_extension": ".py",
   "mimetype": "text/x-python",
   "name": "python",
   "nbconvert_exporter": "python",
   "pygments_lexer": "ipython3",
   "version": "3.6.10"
  }
 },
 "nbformat": 4,
 "nbformat_minor": 2
}
