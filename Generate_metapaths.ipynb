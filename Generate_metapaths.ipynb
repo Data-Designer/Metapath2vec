{
 "cells": [
  {
   "cell_type": "code",
   "execution_count": 1,
   "metadata": {},
   "outputs": [],
   "source": [
    "import networkx as nx\n",
    "import pandas as pd\n",
    "import numpy as np\n",
    "import torch\n",
    "import torch.nn as nn\n",
    "from dgl.nn.pytorch import GraphConv #内置的GCNlayer\n",
    "import dgl\n",
    "import matplotlib.pyplot as plt\n",
    "import random\n",
    "import time\n",
    "import tqdm\n",
    "import sys\n",
    "import os"
   ]
  },
  {
   "cell_type": "code",
   "execution_count": 47,
   "metadata": {},
   "outputs": [],
   "source": [
    "def construct_graph():\n",
    "    file_user = '../data/user_features.csv'\n",
    "    file_item = '../data/item_features.csv'\n",
    "    file_edge = '../data/data_action.csv'\n",
    "    f_user = pd.read_csv(file_user)\n",
    "    f_item = pd.read_csv(file_item)\n",
    "    f_edge = pd.read_csv(file_edge)\n",
    "    \n",
    "    users = set()\n",
    "    items = set()\n",
    "    for index,row in f_edge.iterrows():\n",
    "        users.add(row['user_id'])\n",
    "        items.add(row['sku_id'])\n",
    "    \n",
    "    user_ids_index_map = {x:i for i,x in enumerate(users)}\n",
    "    item_ids_index_map = {x:i for i,x in enumerate(items)}\n",
    "    user_index_id_map = {i:x for i,x in enumerate(users)}\n",
    "    item_index_id_map = {i:x for i,x in enumerate(items)}\n",
    "    \n",
    "    user_item_src = []\n",
    "    user_item_dst = []\n",
    "    for index,row in f_edge.iterrows():\n",
    "        user_item_src.append(user_ids_index_map.get(row['user_id']))\n",
    "        user_item_dst.append(item_ids_index_map.get(row['sku_id']))\n",
    "    \n",
    "    #构图\n",
    "    ui = dgl.bipartite((user_item_src, user_item_dst), 'user', 'ui', 'item')\n",
    "    iu = dgl.bipartite((user_item_dst, user_item_src), 'item', 'iu', 'user')\n",
    "\n",
    "    hg = dgl.hetero_from_relations([ui, iu])\n",
    "    return hg, user_index_id_map, item_index_id_map"
   ]
  },
  {
   "cell_type": "code",
   "execution_count": null,
   "metadata": {},
   "outputs": [],
   "source": [
    "def parse_trace(trace, user_index_id_map, item_index_id_map):\n",
    "    s = []\n",
    "    for index in range(trace.size):\n",
    "        if index % 2 == 0:\n",
    "            s.append(user_index_id_map[trace[index]])\n",
    "        else:\n",
    "            s.append(item_index_id_map[trace[index]])\n",
    "    return ','.join(s)"
   ]
  },
  {
   "cell_type": "code",
   "execution_count": null,
   "metadata": {},
   "outputs": [],
   "source": [
    "def main():\n",
    "    hg, user_index_id_map, item_index_id_map = construct_graph()\n",
    "    meta_path = ['ui','iu','ui','iu','ui','iu']\n",
    "    num_walks_per_node = 1\n",
    "    f = open(\"../output/output_path.txt\", \"w\")\n",
    "    for user_idx in tqdm.trange(hg.number_of_nodes('user')): #以user开头的metapath\n",
    "        traces = dgl.contrib.sampling.metapath_random_walk(\n",
    "            hg=hg, etypes=meta_path, seeds=[user_idx,], num_traces=num_walks_per_node)\n",
    "        tr = traces[0][0].numpy()\n",
    "        tr = np.insert(tr,0,user_idx)\n",
    "        res = parse_trace(tr, user_index_id_map, item_index_id_map)\n",
    "        f.write(res+'\\n')\n",
    "    f.close()"
   ]
  },
  {
   "cell_type": "code",
   "execution_count": 48,
   "metadata": {},
   "outputs": [],
   "source": [
    "if __name__=='__man__':\n",
    "    main()"
   ]
  },
  {
   "cell_type": "code",
   "execution_count": null,
   "metadata": {},
   "outputs": [],
   "source": []
  }
 ],
 "metadata": {
  "kernelspec": {
   "display_name": "Python(DGL)",
   "language": "python",
   "name": "dgl"
  },
  "language_info": {
   "codemirror_mode": {
    "name": "ipython",
    "version": 3
   },
   "file_extension": ".py",
   "mimetype": "text/x-python",
   "name": "python",
   "nbconvert_exporter": "python",
   "pygments_lexer": "ipython3",
   "version": "3.6.10"
  }
 },
 "nbformat": 4,
 "nbformat_minor": 4
}
